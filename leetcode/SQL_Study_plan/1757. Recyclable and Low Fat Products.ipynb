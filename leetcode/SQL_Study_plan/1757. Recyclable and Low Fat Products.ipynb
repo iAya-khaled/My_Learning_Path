{
 "cells": [
  {
   "cell_type": "markdown",
   "id": "90d9b25a",
   "metadata": {},
   "source": [
    "## Write an SQL query to find the ids of products that are both low fat and recyclable.\n",
    "\n",
    "Return the result table in any order."
   ]
  },
  {
   "cell_type": "markdown",
   "id": "f17592a0",
   "metadata": {},
   "source": [
    "``` SELECT product_id\n",
    "FROM Products\n",
    "WHERE low_fats = 'Y' \n",
    "AND recyclable = 'Y' ```"
   ]
  }
 ],
 "metadata": {
  "kernelspec": {
   "display_name": "Python 3 (ipykernel)",
   "language": "python",
   "name": "python3"
  },
  "language_info": {
   "codemirror_mode": {
    "name": "ipython",
    "version": 3
   },
   "file_extension": ".py",
   "mimetype": "text/x-python",
   "name": "python",
   "nbconvert_exporter": "python",
   "pygments_lexer": "ipython3",
   "version": "3.9.12"
  }
 },
 "nbformat": 4,
 "nbformat_minor": 5
}
