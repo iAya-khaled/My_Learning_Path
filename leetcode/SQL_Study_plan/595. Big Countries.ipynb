{
 "cells": [
  {
   "cell_type": "markdown",
   "id": "5842d79e",
   "metadata": {},
   "source": [
    "## Write an SQL query to report the name, population, and area of the big countries.\n",
    "\n",
    "Return the result table in any order."
   ]
  },
  {
   "cell_type": "code",
   "execution_count": null,
   "id": "7cd8f424",
   "metadata": {},
   "outputs": [],
   "source": [
    "```# Write your MySQL query statement below\n",
    "SELECT name , population , area\n",
    "FROM World\n",
    "WHERE area >= 3000000 \n",
    "Or population >= 25000000```"
   ]
  }
 ],
 "metadata": {
  "kernelspec": {
   "display_name": "Python 3 (ipykernel)",
   "language": "python",
   "name": "python3"
  },
  "language_info": {
   "codemirror_mode": {
    "name": "ipython",
    "version": 3
   },
   "file_extension": ".py",
   "mimetype": "text/x-python",
   "name": "python",
   "nbconvert_exporter": "python",
   "pygments_lexer": "ipython3",
   "version": "3.9.12"
  }
 },
 "nbformat": 4,
 "nbformat_minor": 5
}
