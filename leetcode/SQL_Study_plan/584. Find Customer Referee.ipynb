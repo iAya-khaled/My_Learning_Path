{
 "cells": [
  {
   "cell_type": "markdown",
   "id": "ecc4d141",
   "metadata": {},
   "source": [
    "## Write an SQL query to report the names of the customer that are not referred by the customer with id = 2.\n",
    "\n",
    "Return the result table in any order."
   ]
  },
  {
   "cell_type": "markdown",
   "id": "fc8bb816",
   "metadata": {},
   "source": [
    "```SELECT name\n",
    "FROM Customer \n",
    "WHERE ifnull(referee_id,0) != 2  ```"
   ]
  }
 ],
 "metadata": {
  "kernelspec": {
   "display_name": "Python 3 (ipykernel)",
   "language": "python",
   "name": "python3"
  },
  "language_info": {
   "codemirror_mode": {
    "name": "ipython",
    "version": 3
   },
   "file_extension": ".py",
   "mimetype": "text/x-python",
   "name": "python",
   "nbconvert_exporter": "python",
   "pygments_lexer": "ipython3",
   "version": "3.9.12"
  }
 },
 "nbformat": 4,
 "nbformat_minor": 5
}
